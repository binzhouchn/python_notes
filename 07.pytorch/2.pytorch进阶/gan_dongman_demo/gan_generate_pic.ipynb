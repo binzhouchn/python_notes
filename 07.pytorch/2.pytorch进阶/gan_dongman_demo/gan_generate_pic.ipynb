{
 "cells": [
  {
   "cell_type": "code",
   "execution_count": 1,
   "metadata": {
    "ExecuteTime": {
     "end_time": "2018-07-13T14:26:36.280714Z",
     "start_time": "2018-07-13T14:26:35.607647Z"
    },
    "collapsed": true
   },
   "outputs": [],
   "source": [
    "# coding:utf8\n",
    "import os\n",
    "import ipdb\n",
    "import torch as t\n",
    "import torchvision as tv\n",
    "import tqdm\n",
    "from model import NetG, NetD\n",
    "from torch.autograd import Variable\n",
    "from torchnet.meter import AverageValueMeter\n",
    "import visdom"
   ]
  },
  {
   "cell_type": "code",
   "execution_count": 13,
   "metadata": {
    "ExecuteTime": {
     "end_time": "2018-07-13T14:29:33.241409Z",
     "start_time": "2018-07-13T14:29:33.219407Z"
    },
    "collapsed": true
   },
   "outputs": [],
   "source": [
    "class Config(object):\n",
    "    data_path = './data/'  # 数据集存放路径\n",
    "    num_workers = 1  # 多进程加载数据所用的进程数\n",
    "    image_size = 96  # 图片尺寸\n",
    "    batch_size = 128\n",
    "    max_epoch = 31\n",
    "    lr1 = 2e-4  # 生成器的学习率\n",
    "    lr2 = 2e-4  # 判别器的学习率\n",
    "    beta1 = 0.5  # Adam优化器的beta1参数\n",
    "    gpu = False  # 是否使用GPU\n",
    "    nz = 100  # 噪声维度\n",
    "    ngf = 64  # 生成器feature map数\n",
    "    ndf = 64  # 判别器feature map数\n",
    "\n",
    "    save_path = './imgs/'  # 生成图片保存路径\n",
    "\n",
    "    vis = True  # 是否使用visdom可视化\n",
    "    env = 'GAN'  # visdom的env\n",
    "    plot_every = 20  # 每间隔20 batch，visdom画图一次\n",
    "\n",
    "    debug_file = './tmp/debuggan'  # 存在该文件则进入debug模式\n",
    "    d_every = 1  # 每1个batch训练一次判别器\n",
    "    g_every = 5  # 每5个batch训练一次生成器\n",
    "    decay_every = 10  # 每10个epoch保存一次模型\n",
    "#     netd_path = None  # 'checkpoints/netd_.pth' #预训练模型 加载参数\n",
    "#     netg_path = None  # 'checkpoints/netg_211.pth'\n",
    "    netd_path = './checkpoints/netd_29.pth'\n",
    "    netg_path = './checkpoints/netg_29.pth'\n",
    "\n",
    "    # 只测试不训练\n",
    "    gen_img = './imgs/result.png'\n",
    "    # 从512张生成的图片中保存最好的64张\n",
    "    gen_num = 64\n",
    "    gen_search_num = 512\n",
    "    gen_mean = 0  # 噪声的均值\n",
    "    gen_std = 1  # 噪声的方差\n",
    "\n",
    "\n",
    "opt = Config()"
   ]
  },
  {
   "cell_type": "markdown",
   "metadata": {},
   "source": [
    "## 随机输入512个100\\*1\\*1的噪声，用已经训练好的NetG得到分数高的64张3\\*96\\*96的图片"
   ]
  },
  {
   "cell_type": "code",
   "execution_count": 21,
   "metadata": {
    "ExecuteTime": {
     "end_time": "2018-07-13T14:32:15.594642Z",
     "start_time": "2018-07-13T14:32:15.533636Z"
    },
    "collapsed": false
   },
   "outputs": [
    {
     "name": "stderr",
     "output_type": "stream",
     "text": [
      "C:\\Program Files\\Anaconda3\\lib\\site-packages\\ipykernel\\__main__.py:3: UserWarning: volatile was removed and now has no effect. Use `with torch.no_grad():` instead.\n",
      "  app.launch_new_instance()\n"
     ]
    }
   ],
   "source": [
    "netg, netd = NetG(opt).eval(), NetD(opt).eval()\n",
    "noises = t.randn(opt.gen_search_num, opt.nz, 1, 1).normal_(opt.gen_mean, opt.gen_std)\n",
    "noises = Variable(noises, volatile=True)"
   ]
  },
  {
   "cell_type": "code",
   "execution_count": 22,
   "metadata": {
    "ExecuteTime": {
     "end_time": "2018-07-13T14:32:18.263909Z",
     "start_time": "2018-07-13T14:32:18.236907Z"
    },
    "collapsed": true
   },
   "outputs": [],
   "source": [
    "map_location = lambda storage, loc: storage\n",
    "netd.load_state_dict(t.load(opt.netd_path, map_location=map_location))\n",
    "netg.load_state_dict(t.load(opt.netg_path, map_location=map_location))"
   ]
  },
  {
   "cell_type": "code",
   "execution_count": 23,
   "metadata": {
    "ExecuteTime": {
     "end_time": "2018-07-13T14:32:25.761659Z",
     "start_time": "2018-07-13T14:32:19.478031Z"
    },
    "collapsed": false
   },
   "outputs": [],
   "source": [
    "fake_img = netg(noises)\n",
    "scores = netd(fake_img).data"
   ]
  },
  {
   "cell_type": "code",
   "execution_count": 24,
   "metadata": {
    "ExecuteTime": {
     "end_time": "2018-07-13T14:32:27.410824Z",
     "start_time": "2018-07-13T14:32:27.405823Z"
    },
    "collapsed": false
   },
   "outputs": [],
   "source": [
    "# 挑选最好的某几张\n",
    "indexs = scores.topk(opt.gen_num)[1]\n",
    "result = []\n",
    "for ii in indexs:\n",
    "    result.append(fake_img.data[ii])"
   ]
  },
  {
   "cell_type": "code",
   "execution_count": 25,
   "metadata": {
    "ExecuteTime": {
     "end_time": "2018-07-13T14:32:28.799963Z",
     "start_time": "2018-07-13T14:32:28.591942Z"
    },
    "collapsed": true
   },
   "outputs": [],
   "source": [
    "# 保存图片\n",
    "tv.utils.save_image(t.stack(result), opt.gen_img, normalize=True, range=(-1, 1))"
   ]
  },
  {
   "cell_type": "code",
   "execution_count": null,
   "metadata": {
    "collapsed": true
   },
   "outputs": [],
   "source": []
  }
 ],
 "metadata": {
  "anaconda-cloud": {},
  "kernelspec": {
   "display_name": "Python [conda root]",
   "language": "python",
   "name": "conda-root-py"
  },
  "language_info": {
   "codemirror_mode": {
    "name": "ipython",
    "version": 3
   },
   "file_extension": ".py",
   "mimetype": "text/x-python",
   "name": "python",
   "nbconvert_exporter": "python",
   "pygments_lexer": "ipython3",
   "version": "3.5.2"
  }
 },
 "nbformat": 4,
 "nbformat_minor": 1
}
