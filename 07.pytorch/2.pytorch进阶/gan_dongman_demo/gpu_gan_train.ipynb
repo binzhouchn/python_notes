{
 "cells": [
  {
   "cell_type": "code",
   "execution_count": 1,
   "metadata": {
    "ExecuteTime": {
     "end_time": "2018-07-13T10:24:29.236173Z",
     "start_time": "2018-07-13T10:24:27.679796Z"
    }
   },
   "outputs": [],
   "source": [
    "# coding:utf8\n",
    "import os\n",
    "# import ipdb\n",
    "import torch as t\n",
    "import torchvision as tv\n",
    "import tqdm\n",
    "from model import NetG, NetD\n",
    "from torch.autograd import Variable\n",
    "# from torchnet.meter import AverageValueMeter"
   ]
  },
  {
   "cell_type": "code",
   "execution_count": 2,
   "metadata": {
    "ExecuteTime": {
     "end_time": "2018-07-13T10:24:29.256165Z",
     "start_time": "2018-07-13T10:24:29.238172Z"
    }
   },
   "outputs": [],
   "source": [
    "class Config(object):\n",
    "    data_path = './data/'  # 数据集存放路径\n",
    "    num_workers = 1  # 多进程加载数据所用的进程数\n",
    "    image_size = 96  # 图片尺寸3*96*96\n",
    "    batch_size = 128\n",
    "    max_epoch = 31\n",
    "    lr1 = 2e-4  # 生成器的学习率\n",
    "    lr2 = 2e-4  # 判别器的学习率\n",
    "    beta1 = 0.5  # Adam优化器的beta1参数\n",
    "    gpu = True  # 是否使用GPU\n",
    "    nz = 100  # 噪声维度\n",
    "    ngf = 64  # 生成器feature map数\n",
    "    ndf = 64  # 判别器feature map数\n",
    "\n",
    "    save_path = './imgs/'  # 生成图片保存路径\n",
    "\n",
    "    vis = True  # 是否使用visdom可视化\n",
    "    env = 'GAN'  # visdom的env\n",
    "    plot_every = 20  # 每间隔20 batch，visdom画图一次\n",
    "\n",
    "    debug_file = './tmp/debuggan'  # 存在该文件则进入debug模式\n",
    "    d_every = 1  # 每1个batch训练一次判别器\n",
    "    g_every = 5  # 每5个batch训练一次生成器\n",
    "    decay_every = 10  # 每10个epoch保存一次模型\n",
    "    netd_path = None  # 'checkpoints/netd_.pth' #预训练模型 加载参数\n",
    "    netg_path = None  # 'checkpoints/netg_211.pth'\n",
    "\n",
    "    # 只测试不训练\n",
    "    gen_img = 'result.png'\n",
    "    # 从512张生成的图片中保存最好的64张\n",
    "    gen_num = 64\n",
    "    gen_search_num = 512\n",
    "    gen_mean = 0  # 噪声的均值\n",
    "    gen_std = 1  # 噪声的方差\n",
    "\n",
    "opt = Config()"
   ]
  },
  {
   "cell_type": "markdown",
   "metadata": {},
   "source": [
    "## 数据加载"
   ]
  },
  {
   "cell_type": "code",
   "execution_count": 3,
   "metadata": {
    "ExecuteTime": {
     "end_time": "2018-07-13T10:24:32.636812Z",
     "start_time": "2018-07-13T10:24:29.258164Z"
    }
   },
   "outputs": [
    {
     "name": "stderr",
     "output_type": "stream",
     "text": [
      "/usr/local/anaconda3/lib/python3.6/site-packages/torchvision/transforms/transforms.py:188: UserWarning: The use of the transforms.Scale transform is deprecated, please use transforms.Resize instead.\n",
      "  \"please use transforms.Resize instead.\")\n"
     ]
    }
   ],
   "source": [
    "transforms = tv.transforms.Compose([\n",
    "        tv.transforms.Scale(opt.image_size),\n",
    "        tv.transforms.CenterCrop(opt.image_size),\n",
    "        tv.transforms.ToTensor(),\n",
    "        tv.transforms.Normalize((0.5, 0.5, 0.5), (0.5, 0.5, 0.5))\n",
    "    ])\n",
    "dataset = tv.datasets.ImageFolder(opt.data_path, transform=transforms) # 数据加载的时候进行一定的转换\n",
    "dataloader = t.utils.data.DataLoader(dataset,\n",
    "                                         batch_size=opt.batch_size,\n",
    "                                         shuffle=True,\n",
    "                                         num_workers=opt.num_workers,\n",
    "                                         drop_last=True\n",
    "                                         )"
   ]
  },
  {
   "cell_type": "markdown",
   "metadata": {},
   "source": [
    "## 定义网络"
   ]
  },
  {
   "cell_type": "code",
   "execution_count": 4,
   "metadata": {
    "ExecuteTime": {
     "end_time": "2018-07-13T10:24:36.856124Z",
     "start_time": "2018-07-13T10:24:36.797147Z"
    }
   },
   "outputs": [],
   "source": [
    "netg, netd = NetG(opt), NetD(opt)\n",
    "map_location = lambda storage, loc: storage\n",
    "# 如果有预训练好的参数可以加载进来\n",
    "if opt.netd_path:\n",
    "    netd.load_state_dict(t.load(opt.netd_path, map_location=map_location))\n",
    "if opt.netg_path:\n",
    "    netg.load_state_dict(t.load(opt.netg_path, map_location=map_location))"
   ]
  },
  {
   "cell_type": "markdown",
   "metadata": {},
   "source": [
    "## 定义优化器和损失"
   ]
  },
  {
   "cell_type": "code",
   "execution_count": 5,
   "metadata": {
    "ExecuteTime": {
     "end_time": "2018-07-13T10:24:36.975076Z",
     "start_time": "2018-07-13T10:24:36.971078Z"
    }
   },
   "outputs": [],
   "source": [
    "optimizer_g = t.optim.Adam(netg.parameters(), opt.lr1, betas=(opt.beta1, 0.999))\n",
    "optimizer_d = t.optim.Adam(netd.parameters(), opt.lr2, betas=(opt.beta1, 0.999))\n",
    "criterion = t.nn.BCELoss()"
   ]
  },
  {
   "cell_type": "markdown",
   "metadata": {},
   "source": [
    "## 真图片label为1，假图片label为0\n",
    "## noises为生成网络的输入"
   ]
  },
  {
   "cell_type": "code",
   "execution_count": 6,
   "metadata": {
    "ExecuteTime": {
     "end_time": "2018-07-13T10:24:38.093628Z",
     "start_time": "2018-07-13T10:24:38.087631Z"
    }
   },
   "outputs": [],
   "source": [
    "true_labels = Variable(t.ones(opt.batch_size))\n",
    "fake_labels = Variable(t.zeros(opt.batch_size))\n",
    "fix_noises = Variable(t.randn(opt.batch_size, opt.nz, 1, 1))\n",
    "noises = Variable(t.randn(opt.batch_size, opt.nz, 1, 1))"
   ]
  },
  {
   "cell_type": "markdown",
   "metadata": {},
   "source": [
    "## 加入gpu运算"
   ]
  },
  {
   "cell_type": "code",
   "execution_count": null,
   "metadata": {},
   "outputs": [],
   "source": [
    "if opt.gpu:\n",
    "    netd.cuda()\n",
    "    netg.cuda()\n",
    "    criterion.cuda()\n",
    "    true_labels, fake_labels = true_labels.cuda(), fake_labels.cuda()\n",
    "    fix_noises, noises = fix_noises.cuda(), noises.cuda()"
   ]
  },
  {
   "cell_type": "markdown",
   "metadata": {},
   "source": [
    "##  训练"
   ]
  },
  {
   "cell_type": "code",
   "execution_count": null,
   "metadata": {
    "ExecuteTime": {
     "start_time": "2018-07-13T02:24:40.244Z"
    }
   },
   "outputs": [
    {
     "name": "stderr",
     "output_type": "stream",
     "text": [
      "64it [02:48,  2.63s/it]\n",
      "64it [02:52,  2.69s/it]\n",
      "64it [02:48,  2.64s/it]\n",
      "64it [02:57,  2.77s/it]\n",
      "64it [02:54,  2.72s/it]\n",
      "64it [02:26,  2.29s/it]\n",
      "64it [02:20,  2.19s/it]\n",
      "64it [02:27,  2.30s/it]\n",
      "64it [02:07,  2.00s/it]\n",
      "64it [02:17,  2.14s/it]\n"
     ]
    },
    {
     "name": "stdout",
     "output_type": "stream",
     "text": [
      "保存模型参数...\n",
      "next\n"
     ]
    },
    {
     "name": "stderr",
     "output_type": "stream",
     "text": [
      "64it [02:17,  2.14s/it]\n",
      "64it [02:21,  2.21s/it]\n",
      "64it [02:28,  2.32s/it]\n",
      "64it [02:20,  2.20s/it]\n",
      "64it [02:30,  2.34s/it]\n",
      "64it [02:36,  2.44s/it]\n",
      "64it [03:25,  3.22s/it]\n",
      "64it [02:35,  2.43s/it]\n",
      "64it [02:36,  2.44s/it]\n",
      "64it [02:07,  1.99s/it]\n"
     ]
    },
    {
     "name": "stdout",
     "output_type": "stream",
     "text": [
      "保存模型参数...\n",
      "next\n"
     ]
    },
    {
     "name": "stderr",
     "output_type": "stream",
     "text": [
      "64it [02:12,  2.08s/it]\n",
      "64it [02:09,  2.02s/it]\n",
      "64it [03:15,  3.06s/it]\n",
      "64it [03:31,  3.30s/it]\n",
      "64it [03:39,  3.44s/it]\n",
      "64it [03:38,  3.42s/it]\n",
      "64it [03:29,  3.27s/it]\n",
      "64it [03:28,  3.27s/it]\n",
      "64it [03:53,  3.64s/it]\n",
      "64it [04:42,  4.41s/it]\n"
     ]
    },
    {
     "name": "stdout",
     "output_type": "stream",
     "text": [
      "保存模型参数...\n",
      "next\n"
     ]
    },
    {
     "name": "stderr",
     "output_type": "stream",
     "text": [
      "35it [07:51, 13.48s/it]"
     ]
    }
   ],
   "source": [
    "epochs = range(opt.max_epoch)\n",
    "for epoch in iter(epochs):\n",
    "    for ii, (img, _) in tqdm.tqdm(enumerate(dataloader)):\n",
    "        real_img = Variable(img)\n",
    "        if opt.gpu:\n",
    "            real_img = real_img.cuda()\n",
    "        if ii % opt.d_every == 0:\n",
    "            # 训练判别器 每一个batch训练一次\n",
    "            optimizer_d.zero_grad()\n",
    "            ## 尽可能的把真图片判别为正确\n",
    "            output = netd(real_img)\n",
    "            error_d_real = criterion(output, true_labels)\n",
    "            error_d_real.backward()\n",
    "\n",
    "            ## 尽可能把假图片判别为错误\n",
    "            noises.data.copy_(t.randn(opt.batch_size, opt.nz, 1, 1))\n",
    "            fake_img = netg(noises).detach()  # 根据噪声生成假图\n",
    "            output = netd(fake_img)\n",
    "            error_d_fake = criterion(output, fake_labels)\n",
    "            error_d_fake.backward()\n",
    "            optimizer_d.step()\n",
    "\n",
    "\n",
    "        if ii % opt.g_every == 0:\n",
    "            # 训练生成器 每5个batch训练一次\n",
    "            optimizer_g.zero_grad()\n",
    "            noises.data.copy_(t.randn(opt.batch_size, opt.nz, 1, 1))\n",
    "            fake_img = netg(noises)\n",
    "            output = netd(fake_img)\n",
    "            error_g = criterion(output, true_labels)\n",
    "            error_g.backward()\n",
    "            optimizer_g.step()\n",
    "\n",
    "\n",
    "    if (epoch+1) % opt.decay_every == 0:\n",
    "        # 保存模型、图片\n",
    "        print('保存模型参数...')\n",
    "#         tv.utils.save_image(fix_fake_imgs.data[:64], '%s/%s.png' % (opt.save_path, epoch), normalize=True,\n",
    "#                             range=(-1, 1))\n",
    "        t.save(netd.state_dict(), './checkpoints/netd_%s.pth' % epoch)\n",
    "        t.save(netg.state_dict(), './checkpoints/netg_%s.pth' % epoch)\n",
    "        optimizer_g = t.optim.Adam(netg.parameters(), opt.lr1, betas=(opt.beta1, 0.999))\n",
    "        optimizer_d = t.optim.Adam(netd.parameters(), opt.lr2, betas=(opt.beta1, 0.999))\n",
    "        print('next')"
   ]
  },
  {
   "cell_type": "code",
   "execution_count": null,
   "metadata": {
    "collapsed": true
   },
   "outputs": [],
   "source": []
  }
 ],
 "metadata": {
  "anaconda-cloud": {},
  "kernelspec": {
   "display_name": "Python 3",
   "language": "python",
   "name": "python3"
  },
  "language_info": {
   "codemirror_mode": {
    "name": "ipython",
    "version": 3
   },
   "file_extension": ".py",
   "mimetype": "text/x-python",
   "name": "python",
   "nbconvert_exporter": "python",
   "pygments_lexer": "ipython3",
   "version": "3.6.4"
  }
 },
 "nbformat": 4,
 "nbformat_minor": 1
}
